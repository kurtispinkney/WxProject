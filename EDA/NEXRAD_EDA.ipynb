{
 "cells": [
  {
   "cell_type": "code",
   "execution_count": 18,
   "metadata": {},
   "outputs": [],
   "source": [
    "import pyart\n",
    "import pandas as pd\n",
    "import re"
   ]
  },
  {
   "cell_type": "code",
   "execution_count": 3,
   "metadata": {},
   "outputs": [],
   "source": [
    "nexrad_file = \"/Users/kurtispinkney/Desktop/WxProject/KHTX20191205_235758_V06\""
   ]
  },
  {
   "cell_type": "code",
   "execution_count": 4,
   "metadata": {},
   "outputs": [],
   "source": [
    "nexrad_object = pyart.io.read_nexrad_archive(nexrad_file)"
   ]
  },
  {
   "cell_type": "code",
   "execution_count": 5,
   "metadata": {},
   "outputs": [
    {
     "data": {
      "text/plain": [
       "<pyart.core.radar.Radar at 0x1c1ae37b90>"
      ]
     },
     "execution_count": 5,
     "metadata": {},
     "output_type": "execute_result"
    }
   ],
   "source": [
    "nexrad_object"
   ]
  },
  {
   "cell_type": "code",
   "execution_count": 16,
   "metadata": {},
   "outputs": [
    {
     "data": {
      "text/plain": [
       "'KHTX'"
      ]
     },
     "execution_count": 16,
     "metadata": {},
     "output_type": "execute_result"
    }
   ],
   "source": [
    "nexrad_object.metadata"
   ]
  },
  {
   "cell_type": "code",
   "execution_count": 7,
   "metadata": {},
   "outputs": [
    {
     "data": {
      "text/plain": [
       "34.93055725097656"
      ]
     },
     "execution_count": 7,
     "metadata": {},
     "output_type": "execute_result"
    }
   ],
   "source": [
    "nexrad_object.latitude[\"data\"][0]\n"
   ]
  },
  {
   "cell_type": "code",
   "execution_count": 8,
   "metadata": {},
   "outputs": [
    {
     "name": "stderr",
     "output_type": "stream",
     "text": [
      "/opt/anaconda3/lib/python3.7/site-packages/botocore/awsrequest.py:624: DeprecationWarning: Using or importing the ABCs from 'collections' instead of from 'collections.abc' is deprecated, and in 3.8 it will stop working\n",
      "  class HeadersDict(collections.MutableMapping):\n"
     ]
    }
   ],
   "source": [
    "import boto3"
   ]
  },
  {
   "cell_type": "code",
   "execution_count": 9,
   "metadata": {},
   "outputs": [],
   "source": [
    "s3client = boto3.client('s3', region_name=\"us-east-1\")"
   ]
  },
  {
   "cell_type": "code",
   "execution_count": 10,
   "metadata": {},
   "outputs": [],
   "source": [
    "result = s3client.list_objects(Bucket=\"noaa-nexrad-level2\", Delimiter=\"/\", Prefix=\"2019/12/10/\")"
   ]
  },
  {
   "cell_type": "code",
   "execution_count": 11,
   "metadata": {
    "scrolled": true
   },
   "outputs": [
    {
     "name": "stdout",
     "output_type": "stream",
     "text": [
      "[{'Prefix': '2019/12/10/FOP1/'}, {'Prefix': '2019/12/10/KABR/'}, {'Prefix': '2019/12/10/KABX/'}, {'Prefix': '2019/12/10/KAKQ/'}, {'Prefix': '2019/12/10/KAMA/'}, {'Prefix': '2019/12/10/KAMX/'}, {'Prefix': '2019/12/10/KAPX/'}, {'Prefix': '2019/12/10/KARX/'}, {'Prefix': '2019/12/10/KATX/'}, {'Prefix': '2019/12/10/KBBX/'}, {'Prefix': '2019/12/10/KBGM/'}, {'Prefix': '2019/12/10/KBHX/'}, {'Prefix': '2019/12/10/KBIS/'}, {'Prefix': '2019/12/10/KBLX/'}, {'Prefix': '2019/12/10/KBMX/'}, {'Prefix': '2019/12/10/KBOX/'}, {'Prefix': '2019/12/10/KBRO/'}, {'Prefix': '2019/12/10/KBUF/'}, {'Prefix': '2019/12/10/KBYX/'}, {'Prefix': '2019/12/10/KCAE/'}, {'Prefix': '2019/12/10/KCBW/'}, {'Prefix': '2019/12/10/KCBX/'}, {'Prefix': '2019/12/10/KCCX/'}, {'Prefix': '2019/12/10/KCLE/'}, {'Prefix': '2019/12/10/KCRP/'}, {'Prefix': '2019/12/10/KCXX/'}, {'Prefix': '2019/12/10/KCYS/'}, {'Prefix': '2019/12/10/KDAX/'}, {'Prefix': '2019/12/10/KDDC/'}, {'Prefix': '2019/12/10/KDFX/'}, {'Prefix': '2019/12/10/KDGX/'}, {'Prefix': '2019/12/10/KDIX/'}, {'Prefix': '2019/12/10/KDLH/'}, {'Prefix': '2019/12/10/KDOX/'}, {'Prefix': '2019/12/10/KDTX/'}, {'Prefix': '2019/12/10/KDVN/'}, {'Prefix': '2019/12/10/KDYX/'}, {'Prefix': '2019/12/10/KEAX/'}, {'Prefix': '2019/12/10/KEMX/'}, {'Prefix': '2019/12/10/KENX/'}, {'Prefix': '2019/12/10/KEOX/'}, {'Prefix': '2019/12/10/KEPZ/'}, {'Prefix': '2019/12/10/KESX/'}, {'Prefix': '2019/12/10/KEVX/'}, {'Prefix': '2019/12/10/KEWX/'}, {'Prefix': '2019/12/10/KEYX/'}, {'Prefix': '2019/12/10/KFCX/'}, {'Prefix': '2019/12/10/KFDR/'}, {'Prefix': '2019/12/10/KFDX/'}, {'Prefix': '2019/12/10/KFFC/'}, {'Prefix': '2019/12/10/KFSD/'}, {'Prefix': '2019/12/10/KFSX/'}, {'Prefix': '2019/12/10/KFWS/'}, {'Prefix': '2019/12/10/KGGW/'}, {'Prefix': '2019/12/10/KGJX/'}, {'Prefix': '2019/12/10/KGLD/'}, {'Prefix': '2019/12/10/KGRB/'}, {'Prefix': '2019/12/10/KGRK/'}, {'Prefix': '2019/12/10/KGRR/'}, {'Prefix': '2019/12/10/KGSP/'}, {'Prefix': '2019/12/10/KGWX/'}, {'Prefix': '2019/12/10/KGYX/'}, {'Prefix': '2019/12/10/KHDX/'}, {'Prefix': '2019/12/10/KHGX/'}, {'Prefix': '2019/12/10/KHNX/'}, {'Prefix': '2019/12/10/KHPX/'}, {'Prefix': '2019/12/10/KHTX/'}, {'Prefix': '2019/12/10/KICT/'}, {'Prefix': '2019/12/10/KICX/'}, {'Prefix': '2019/12/10/KILN/'}, {'Prefix': '2019/12/10/KILX/'}, {'Prefix': '2019/12/10/KIND/'}, {'Prefix': '2019/12/10/KINX/'}, {'Prefix': '2019/12/10/KIWA/'}, {'Prefix': '2019/12/10/KIWX/'}, {'Prefix': '2019/12/10/KJAX/'}, {'Prefix': '2019/12/10/KJGX/'}, {'Prefix': '2019/12/10/KJKL/'}, {'Prefix': '2019/12/10/KLBB/'}, {'Prefix': '2019/12/10/KLCH/'}, {'Prefix': '2019/12/10/KLGX/'}, {'Prefix': '2019/12/10/KLIX/'}, {'Prefix': '2019/12/10/KLNX/'}, {'Prefix': '2019/12/10/KLOT/'}, {'Prefix': '2019/12/10/KLRX/'}, {'Prefix': '2019/12/10/KLSX/'}, {'Prefix': '2019/12/10/KLTX/'}, {'Prefix': '2019/12/10/KLVX/'}, {'Prefix': '2019/12/10/KLWX/'}, {'Prefix': '2019/12/10/KLZK/'}, {'Prefix': '2019/12/10/KMAF/'}, {'Prefix': '2019/12/10/KMAX/'}, {'Prefix': '2019/12/10/KMBX/'}, {'Prefix': '2019/12/10/KMHX/'}, {'Prefix': '2019/12/10/KMKX/'}, {'Prefix': '2019/12/10/KMOB/'}, {'Prefix': '2019/12/10/KMPX/'}, {'Prefix': '2019/12/10/KMQT/'}, {'Prefix': '2019/12/10/KMRX/'}, {'Prefix': '2019/12/10/KMSX/'}, {'Prefix': '2019/12/10/KMTX/'}, {'Prefix': '2019/12/10/KMUX/'}, {'Prefix': '2019/12/10/KMVX/'}, {'Prefix': '2019/12/10/KMXX/'}, {'Prefix': '2019/12/10/KNKX/'}, {'Prefix': '2019/12/10/KNQA/'}, {'Prefix': '2019/12/10/KOAX/'}, {'Prefix': '2019/12/10/KOHX/'}, {'Prefix': '2019/12/10/KOKX/'}, {'Prefix': '2019/12/10/KOTX/'}, {'Prefix': '2019/12/10/KPAH/'}, {'Prefix': '2019/12/10/KPBZ/'}, {'Prefix': '2019/12/10/KPDT/'}, {'Prefix': '2019/12/10/KPOE/'}, {'Prefix': '2019/12/10/KPUX/'}, {'Prefix': '2019/12/10/KRAX/'}, {'Prefix': '2019/12/10/KRGX/'}, {'Prefix': '2019/12/10/KRIW/'}, {'Prefix': '2019/12/10/KRLX/'}, {'Prefix': '2019/12/10/KRTX/'}, {'Prefix': '2019/12/10/KSFX/'}, {'Prefix': '2019/12/10/KSGF/'}, {'Prefix': '2019/12/10/KSHV/'}, {'Prefix': '2019/12/10/KSJT/'}, {'Prefix': '2019/12/10/KSOX/'}, {'Prefix': '2019/12/10/KSRX/'}, {'Prefix': '2019/12/10/KTBW/'}, {'Prefix': '2019/12/10/KTFX/'}, {'Prefix': '2019/12/10/KTLH/'}, {'Prefix': '2019/12/10/KTLX/'}, {'Prefix': '2019/12/10/KTWX/'}, {'Prefix': '2019/12/10/KTYX/'}, {'Prefix': '2019/12/10/KUDX/'}, {'Prefix': '2019/12/10/KUEX/'}, {'Prefix': '2019/12/10/KVAX/'}, {'Prefix': '2019/12/10/KVBX/'}, {'Prefix': '2019/12/10/KVNX/'}, {'Prefix': '2019/12/10/KVTX/'}, {'Prefix': '2019/12/10/KVWX/'}, {'Prefix': '2019/12/10/KYUX/'}, {'Prefix': '2019/12/10/PABC/'}, {'Prefix': '2019/12/10/PACG/'}, {'Prefix': '2019/12/10/PAEC/'}, {'Prefix': '2019/12/10/PAHG/'}, {'Prefix': '2019/12/10/PAIH/'}, {'Prefix': '2019/12/10/PAKC/'}, {'Prefix': '2019/12/10/PAPD/'}, {'Prefix': '2019/12/10/PGUA/'}, {'Prefix': '2019/12/10/PHKI/'}, {'Prefix': '2019/12/10/PHKM/'}, {'Prefix': '2019/12/10/PHMO/'}, {'Prefix': '2019/12/10/PHWA/'}, {'Prefix': '2019/12/10/RKJK/'}, {'Prefix': '2019/12/10/RKSG/'}, {'Prefix': '2019/12/10/RODN/'}, {'Prefix': '2019/12/10/ROP4/'}, {'Prefix': '2019/12/10/TJUA/'}]\n"
     ]
    }
   ],
   "source": [
    "print(result.get('CommonPrefixes'))"
   ]
  },
  {
   "cell_type": "code",
   "execution_count": 12,
   "metadata": {},
   "outputs": [
    {
     "name": "stdout",
     "output_type": "stream",
     "text": [
      "<class 'str'>\n",
      "<class 'str'>\n",
      "<class 'str'>\n",
      "<class 'str'>\n",
      "<class 'str'>\n",
      "<class 'str'>\n",
      "<class 'str'>\n",
      "<class 'str'>\n",
      "<class 'str'>\n",
      "<class 'str'>\n",
      "<class 'str'>\n",
      "<class 'str'>\n",
      "<class 'str'>\n",
      "<class 'str'>\n",
      "<class 'str'>\n",
      "<class 'str'>\n",
      "<class 'str'>\n",
      "<class 'str'>\n",
      "<class 'str'>\n",
      "<class 'str'>\n",
      "<class 'str'>\n",
      "<class 'str'>\n",
      "<class 'str'>\n",
      "<class 'str'>\n",
      "<class 'str'>\n",
      "<class 'str'>\n",
      "<class 'str'>\n",
      "<class 'str'>\n",
      "<class 'str'>\n",
      "<class 'str'>\n",
      "<class 'str'>\n",
      "<class 'str'>\n",
      "<class 'str'>\n",
      "<class 'str'>\n",
      "<class 'str'>\n",
      "<class 'str'>\n",
      "<class 'str'>\n",
      "<class 'str'>\n",
      "<class 'str'>\n",
      "<class 'str'>\n",
      "<class 'str'>\n",
      "<class 'str'>\n",
      "<class 'str'>\n",
      "<class 'str'>\n",
      "<class 'str'>\n",
      "<class 'str'>\n",
      "<class 'str'>\n",
      "<class 'str'>\n",
      "<class 'str'>\n",
      "<class 'str'>\n",
      "<class 'str'>\n",
      "<class 'str'>\n",
      "<class 'str'>\n",
      "<class 'str'>\n",
      "<class 'str'>\n",
      "<class 'str'>\n",
      "<class 'str'>\n",
      "<class 'str'>\n",
      "<class 'str'>\n",
      "<class 'str'>\n",
      "<class 'str'>\n",
      "<class 'str'>\n",
      "<class 'str'>\n",
      "<class 'str'>\n",
      "<class 'str'>\n",
      "<class 'str'>\n",
      "<class 'str'>\n",
      "<class 'str'>\n",
      "<class 'str'>\n",
      "<class 'str'>\n",
      "<class 'str'>\n",
      "<class 'str'>\n",
      "<class 'str'>\n",
      "<class 'str'>\n",
      "<class 'str'>\n",
      "<class 'str'>\n",
      "<class 'str'>\n",
      "<class 'str'>\n",
      "<class 'str'>\n",
      "<class 'str'>\n",
      "<class 'str'>\n",
      "<class 'str'>\n",
      "<class 'str'>\n",
      "<class 'str'>\n",
      "<class 'str'>\n",
      "<class 'str'>\n",
      "<class 'str'>\n",
      "<class 'str'>\n",
      "<class 'str'>\n",
      "<class 'str'>\n",
      "<class 'str'>\n",
      "<class 'str'>\n",
      "<class 'str'>\n",
      "<class 'str'>\n",
      "<class 'str'>\n",
      "<class 'str'>\n",
      "<class 'str'>\n",
      "<class 'str'>\n",
      "<class 'str'>\n",
      "<class 'str'>\n",
      "<class 'str'>\n",
      "<class 'str'>\n",
      "<class 'str'>\n",
      "<class 'str'>\n",
      "<class 'str'>\n",
      "<class 'str'>\n",
      "<class 'str'>\n",
      "<class 'str'>\n",
      "<class 'str'>\n",
      "<class 'str'>\n",
      "<class 'str'>\n",
      "<class 'str'>\n",
      "<class 'str'>\n",
      "<class 'str'>\n",
      "<class 'str'>\n",
      "<class 'str'>\n",
      "<class 'str'>\n",
      "<class 'str'>\n",
      "<class 'str'>\n",
      "<class 'str'>\n",
      "<class 'str'>\n",
      "<class 'str'>\n",
      "<class 'str'>\n",
      "<class 'str'>\n",
      "<class 'str'>\n",
      "<class 'str'>\n",
      "<class 'str'>\n",
      "<class 'str'>\n",
      "<class 'str'>\n",
      "<class 'str'>\n",
      "<class 'str'>\n",
      "<class 'str'>\n",
      "<class 'str'>\n",
      "<class 'str'>\n",
      "<class 'str'>\n",
      "<class 'str'>\n",
      "<class 'str'>\n",
      "<class 'str'>\n",
      "<class 'str'>\n",
      "<class 'str'>\n",
      "<class 'str'>\n",
      "<class 'str'>\n",
      "<class 'str'>\n",
      "<class 'str'>\n",
      "<class 'str'>\n",
      "<class 'str'>\n",
      "<class 'str'>\n",
      "<class 'str'>\n",
      "<class 'str'>\n",
      "<class 'str'>\n",
      "<class 'str'>\n",
      "<class 'str'>\n",
      "<class 'str'>\n",
      "<class 'str'>\n",
      "<class 'str'>\n",
      "<class 'str'>\n",
      "<class 'str'>\n"
     ]
    }
   ],
   "source": [
    "for o in result.get('CommonPrefixes'):\n",
    "    print(type(o.get('Prefix')))"
   ]
  },
  {
   "cell_type": "code",
   "execution_count": 15,
   "metadata": {},
   "outputs": [
    {
     "data": {
      "text/plain": [
       "str"
      ]
     },
     "execution_count": 15,
     "metadata": {},
     "output_type": "execute_result"
    }
   ],
   "source": [
    "type(s3client.list_objects(Bucket='noaa-nexrad-level2')[\"Contents\"][0][\"Key\"])\n",
    "    "
   ]
  },
  {
   "cell_type": "code",
   "execution_count": 14,
   "metadata": {},
   "outputs": [
    {
     "data": {
      "text/plain": [
       "157"
      ]
     },
     "execution_count": 14,
     "metadata": {},
     "output_type": "execute_result"
    }
   ],
   "source": [
    "len(result.get('CommonPrefixes'))"
   ]
  },
  {
   "cell_type": "code",
   "execution_count": 15,
   "metadata": {},
   "outputs": [],
   "source": [
    "scraped_lat_lon = pd.read_csv(\"/Users/kurtispinkney/Desktop/WxProject/radar_lat_lon.csv\")"
   ]
  },
  {
   "cell_type": "code",
   "execution_count": 16,
   "metadata": {},
   "outputs": [],
   "source": [
    "scraped_radar_id = set(scraped_lat_lon[\"Id\"])"
   ]
  },
  {
   "cell_type": "code",
   "execution_count": 17,
   "metadata": {},
   "outputs": [],
   "source": [
    "s3_radar_id = []\n",
    "for o in result.get('CommonPrefixes'):\n",
    "    s3_radar_id.append(o.get('Prefix').split(\"/\")[-2])\n",
    "s3_radar_id = set(s3_radar_id)"
   ]
  },
  {
   "cell_type": "code",
   "execution_count": 18,
   "metadata": {
    "scrolled": false
   },
   "outputs": [
    {
     "data": {
      "text/plain": [
       "{'FOP1',\n",
       " 'KABR',\n",
       " 'KABX',\n",
       " 'KAKQ',\n",
       " 'KAMA',\n",
       " 'KAMX',\n",
       " 'KAPX',\n",
       " 'KARX',\n",
       " 'KATX',\n",
       " 'KBBX',\n",
       " 'KBGM',\n",
       " 'KBHX',\n",
       " 'KBIS',\n",
       " 'KBLX',\n",
       " 'KBMX',\n",
       " 'KBOX',\n",
       " 'KBRO',\n",
       " 'KBUF',\n",
       " 'KBYX',\n",
       " 'KCAE',\n",
       " 'KCBW',\n",
       " 'KCBX',\n",
       " 'KCCX',\n",
       " 'KCLE',\n",
       " 'KCRP',\n",
       " 'KCXX',\n",
       " 'KCYS',\n",
       " 'KDAX',\n",
       " 'KDDC',\n",
       " 'KDFX',\n",
       " 'KDGX',\n",
       " 'KDIX',\n",
       " 'KDLH',\n",
       " 'KDOX',\n",
       " 'KDTX',\n",
       " 'KDVN',\n",
       " 'KDYX',\n",
       " 'KEAX',\n",
       " 'KEMX',\n",
       " 'KENX',\n",
       " 'KEOX',\n",
       " 'KEPZ',\n",
       " 'KESX',\n",
       " 'KEVX',\n",
       " 'KEWX',\n",
       " 'KEYX',\n",
       " 'KFCX',\n",
       " 'KFDR',\n",
       " 'KFDX',\n",
       " 'KFFC',\n",
       " 'KFSD',\n",
       " 'KFSX',\n",
       " 'KFWS',\n",
       " 'KGGW',\n",
       " 'KGJX',\n",
       " 'KGLD',\n",
       " 'KGRB',\n",
       " 'KGRK',\n",
       " 'KGRR',\n",
       " 'KGSP',\n",
       " 'KGWX',\n",
       " 'KGYX',\n",
       " 'KHDX',\n",
       " 'KHGX',\n",
       " 'KHNX',\n",
       " 'KHPX',\n",
       " 'KHTX',\n",
       " 'KICT',\n",
       " 'KICX',\n",
       " 'KILN',\n",
       " 'KILX',\n",
       " 'KIND',\n",
       " 'KINX',\n",
       " 'KIWA',\n",
       " 'KIWX',\n",
       " 'KJAX',\n",
       " 'KJGX',\n",
       " 'KJKL',\n",
       " 'KLBB',\n",
       " 'KLCH',\n",
       " 'KLGX',\n",
       " 'KLIX',\n",
       " 'KLNX',\n",
       " 'KLOT',\n",
       " 'KLRX',\n",
       " 'KLSX',\n",
       " 'KLTX',\n",
       " 'KLVX',\n",
       " 'KLWX',\n",
       " 'KLZK',\n",
       " 'KMAF',\n",
       " 'KMAX',\n",
       " 'KMBX',\n",
       " 'KMHX',\n",
       " 'KMKX',\n",
       " 'KMOB',\n",
       " 'KMPX',\n",
       " 'KMQT',\n",
       " 'KMRX',\n",
       " 'KMSX',\n",
       " 'KMTX',\n",
       " 'KMUX',\n",
       " 'KMVX',\n",
       " 'KMXX',\n",
       " 'KNKX',\n",
       " 'KNQA',\n",
       " 'KOAX',\n",
       " 'KOHX',\n",
       " 'KOKX',\n",
       " 'KOTX',\n",
       " 'KPAH',\n",
       " 'KPBZ',\n",
       " 'KPDT',\n",
       " 'KPOE',\n",
       " 'KPUX',\n",
       " 'KRAX',\n",
       " 'KRGX',\n",
       " 'KRIW',\n",
       " 'KRLX',\n",
       " 'KRTX',\n",
       " 'KSFX',\n",
       " 'KSGF',\n",
       " 'KSHV',\n",
       " 'KSJT',\n",
       " 'KSOX',\n",
       " 'KSRX',\n",
       " 'KTBW',\n",
       " 'KTFX',\n",
       " 'KTLH',\n",
       " 'KTLX',\n",
       " 'KTWX',\n",
       " 'KTYX',\n",
       " 'KUDX',\n",
       " 'KUEX',\n",
       " 'KVAX',\n",
       " 'KVBX',\n",
       " 'KVNX',\n",
       " 'KVTX',\n",
       " 'KVWX',\n",
       " 'KYUX',\n",
       " 'PABC',\n",
       " 'PACG',\n",
       " 'PAEC',\n",
       " 'PAHG',\n",
       " 'PAIH',\n",
       " 'PAKC',\n",
       " 'PAPD',\n",
       " 'PGUA',\n",
       " 'PHKI',\n",
       " 'PHKM',\n",
       " 'PHMO',\n",
       " 'PHWA',\n",
       " 'RKJK',\n",
       " 'RKSG',\n",
       " 'RODN',\n",
       " 'ROP4',\n",
       " 'TJUA'}"
      ]
     },
     "execution_count": 18,
     "metadata": {},
     "output_type": "execute_result"
    }
   ],
   "source": [
    "s3_radar_id"
   ]
  },
  {
   "cell_type": "code",
   "execution_count": 19,
   "metadata": {},
   "outputs": [
    {
     "data": {
      "text/plain": [
       "{'FOP1', 'KDGX', 'KLGX', 'KTYX', 'KVWX', 'PHKM', 'ROP4'}"
      ]
     },
     "execution_count": 19,
     "metadata": {},
     "output_type": "execute_result"
    }
   ],
   "source": [
    "s3_radar_id.difference(scraped_radar_id)"
   ]
  },
  {
   "cell_type": "code",
   "execution_count": 45,
   "metadata": {},
   "outputs": [],
   "source": [
    "radar_files_to_dl = []\n",
    "for radar_id in s3_radar_id:\n",
    "#     print(s3_radar_id)\n",
    "    prefix=f\"2019/12/10/{radar_id}/{radar_id}\"\n",
    "    radar_files = s3client.list_objects(Bucket=\"noaa-nexrad-level2\", Delimiter=\"/\", Prefix=prefix)\n",
    "#     print(radar_files[\"Contents\"][0])\n",
    "    radar_files_to_dl.append(radar_files[\"Contents\"][0][\"Key\"])\n",
    "#     for obj in radar_files[\"Contents\"][0]:\n",
    "#         if obj[\"Key\"].endswith(\"_V06\"):\n",
    "#             radar_files_to_dl.append(obj[\"Key\"])\n",
    "#         continue\n",
    "#     continue\n",
    "        \n",
    "#         radar_files_to_dl.append(obj.get(\"Prefix\"))\n",
    "#         continue\n"
   ]
  },
  {
   "cell_type": "code",
   "execution_count": 46,
   "metadata": {},
   "outputs": [
    {
     "name": "stdout",
     "output_type": "stream",
     "text": [
      "['2019/12/10/KFFC/KFFC20191210_000139_V06', '2019/12/10/KVAX/KVAX20191210_000129_V06', '2019/12/10/KGWX/KGWX20191210_022508_V06', '2019/12/10/KPDT/KPDT20191210_000611_V06', '2019/12/10/KGGW/KGGW20191210_000007_V06', '2019/12/10/KEOX/KEOX20191210_000758_V06', '2019/12/10/KHPX/KHPX20191210_000406_V06', '2019/12/10/KUEX/KUEX20191210_000542_V06', '2019/12/10/KDOX/KDOX20191210_000222_V06', '2019/12/10/KIWA/KIWA20191210_000515_V06', '2019/12/10/KTYX/KTYX20191210_000228_V06', '2019/12/10/KTLH/KTLH20191210_000821_V06', '2019/12/10/KIND/KIND20191210_000325_V06', '2019/12/10/KTBW/KTBW20191210_000505_V06', '2019/12/10/KLWX/KLWX20191210_000006_V06', '2019/12/10/KDYX/KDYX20191210_000227_V06', '2019/12/10/KLBB/KLBB20191210_000240_V06', '2019/12/10/KENX/KENX20191210_000046_V06', '2019/12/10/KJAX/KJAX20191210_000750_V06', '2019/12/10/KCYS/KCYS20191210_000315_V06', '2019/12/10/KLTX/KLTX20191210_000545_V06', '2019/12/10/PAKC/PAKC20191210_000313_V06', '2019/12/10/KBUF/KBUF20191210_000301_V06', '2019/12/10/KGLD/KGLD20191210_000117_V06', '2019/12/10/KCBX/KCBX20191210_000143_V06', '2019/12/10/RODN/RODN20191210_000759_V06', '2019/12/10/KLNX/KLNX20191210_000139_V06', '2019/12/10/KBYX/KBYX20191210_000249_V06', '2019/12/10/KNKX/KNKX20191210_000006_V06', '2019/12/10/KGYX/KGYX20191210_000514_V06', '2019/12/10/KVNX/KVNX20191210_000621_V06', '2019/12/10/KPBZ/KPBZ20191210_000220_V06', '2019/12/10/KEWX/KEWX20191210_000149_V06', '2019/12/10/KSGF/KSGF20191210_000058_V06', '2019/12/10/KFDR/KFDR20191210_000000_V06', '2019/12/10/KFWS/KFWS20191210_191031_V06', '2019/12/10/PGUA/PGUA20191210_000041_V06', '2019/12/10/KFSD/KFSD20191210_000119_V06', '2019/12/10/KVBX/KVBX20191210_000934_V06', '2019/12/10/KBRO/KBRO20191210_000325_V06', '2019/12/10/KJGX/KJGX20191210_000042_V06', '2019/12/10/KPAH/KPAH20191210_000104_V06', '2019/12/10/PHKI/PHKI20191210_000220_V06', '2019/12/10/KTWX/KTWX20191210_000344_V06', '2019/12/10/KBGM/KBGM20191210_000017_V06', '2019/12/10/KGSP/KGSP20191210_000446_V06', '2019/12/10/KGRR/KGRR20191210_000015_V06', '2019/12/10/KICT/KICT20191210_000330_V06', '2019/12/10/KYUX/KYUX20191210_000520_V06', '2019/12/10/KEMX/KEMX20191210_000310_V06', '2019/12/10/KRAX/KRAX20191210_000521_V06', '2019/12/10/KTFX/KTFX20191210_000054_V06', '2019/12/10/KLGX/KLGX20191210_000210_V06', '2019/12/10/KLSX/KLSX20191210_000406_V06', '2019/12/10/KHNX/KHNX20191210_000317_V06', '2019/12/10/KLOT/KLOT20191210_000057_V06', '2019/12/10/KRIW/KRIW20191210_000406_V06', '2019/12/10/KABX/KABX20191210_001126_V06', '2019/12/10/KLCH/KLCH20191210_000146_V06', '2019/12/10/KMUX/KMUX20191210_000157_V06', '2019/12/10/KCBW/KCBW20191210_000405_V06', '2019/12/10/KPUX/KPUX20191210_000329_V06', '2019/12/10/KDIX/KDIX20191210_000002_V06', '2019/12/10/KDVN/KDVN20191210_000540_V06', '2019/12/10/PHWA/PHWA20191210_000438_V06', '2019/12/10/KVTX/KVTX20191210_000426_V06', '2019/12/10/KOHX/KOHX20191210_000434_V06', '2019/12/10/KSFX/KSFX20191210_000152_V06', '2019/12/10/KBMX/KBMX20191210_000236_V06', '2019/12/10/KRLX/KRLX20191210_000156_V06', '2019/12/10/KCXX/KCXX20191210_000349_V06', '2019/12/10/KMVX/KMVX20191210_000212_V06', '2019/12/10/KMAX/KMAX20191210_000725_V06', '2019/12/10/KLVX/KLVX20191210_000237_V06', '2019/12/10/KOKX/KOKX20191210_000331_V06', '2019/12/10/KFSX/KFSX20191210_000026_V06', '2019/12/10/KINX/KINX20191210_000541_V06', '2019/12/10/KICX/KICX20191210_000546_V06', '2019/12/10/KCAE/KCAE20191210_000153_V06', '2019/12/10/KILN/KILN20191210_000228_V06', '2019/12/10/KAKQ/KAKQ20191210_000022_V06', '2019/12/10/KEPZ/KEPZ20191210_000131_V06', '2019/12/10/KDFX/KDFX20191210_000057_V06', '2019/12/10/KOTX/KOTX20191210_000308_V06', '2019/12/10/KMBX/KMBX20191210_000147_V06', '2019/12/10/KNQA/KNQA20191210_000243_V06', '2019/12/10/KCCX/KCCX20191210_000317_V06', '2019/12/10/PHKM/PHKM20191210_000020_V06', '2019/12/10/KFCX/KFCX20191210_000236_V06', '2019/12/10/KARX/KARX20191210_000515_V06', '2019/12/10/KSOX/KSOX20191210_000934_V06', '2019/12/10/KMRX/KMRX20191210_000243_V06', '2019/12/10/KABR/KABR20191210_000140_V06', '2019/12/10/KEVX/KEVX20191210_000036_V06', '2019/12/10/KSHV/KSHV20191210_000322_V06', '2019/12/10/KVWX/KVWX20191210_000345_V06', '2019/12/10/KRGX/KRGX20191210_000128_V06', '2019/12/10/KSJT/KSJT20191210_000147_V06', '2019/12/10/PHMO/PHMO20191210_000051_V06', '2019/12/10/ROP4/ROP420191210_000609_V06', '2019/12/10/KLZK/KLZK20191210_000258_V06', '2019/12/10/KMPX/KMPX20191210_000201_V06', '2019/12/10/KEAX/KEAX20191210_000517_V06', '2019/12/10/KMHX/KMHX20191210_000347_V06', '2019/12/10/KOAX/KOAX20191210_000240_V06', '2019/12/10/KRTX/KRTX20191210_000446_V06', '2019/12/10/KSRX/KSRX20191210_000115_V06', '2019/12/10/KBIS/KBIS20191210_000601_V06', '2019/12/10/KATX/KATX20191210_000108_V06', '2019/12/10/KMOB/KMOB20191210_000212_V06', '2019/12/10/KGRK/KGRK20191210_000346_V06', '2019/12/10/KJKL/KJKL20191210_000200_V06', '2019/12/10/KHGX/KHGX20191210_000108_V06', '2019/12/10/KDLH/KDLH20191210_000559_V06', '2019/12/10/PAIH/PAIH20191210_000243_V06', '2019/12/10/KUDX/KUDX20191210_000420_V06', '2019/12/10/PAEC/PAEC20191210_000136_V06', '2019/12/10/KDAX/KDAX20191210_000832_V06', '2019/12/10/KMAF/KMAF20191210_000528_V06', '2019/12/10/KDDC/KDDC20191210_000517_V06', '2019/12/10/KAMX/KAMX20191210_000341_V06', '2019/12/10/KEYX/KEYX20191210_000344_V06', '2019/12/10/KDTX/KDTX20191210_000134_V06', '2019/12/10/KFDX/KFDX20191210_000856_V06', '2019/12/10/KIWX/KIWX20191210_000141_V06', '2019/12/10/PACG/PACG20191210_000059_V06', '2019/12/10/TJUA/TJUA20191210_000233_V06', '2019/12/10/KCRP/KCRP20191210_000443_V06', '2019/12/10/KMQT/KMQT20191210_000539_V06', '2019/12/10/FOP1/FOP120191210_165420_V06', '2019/12/10/KHTX/KHTX20191210_000115_V06', '2019/12/10/KMKX/KMKX20191210_000508_V06', '2019/12/10/KMSX/KMSX20191210_000749_V06', '2019/12/10/KLRX/KLRX20191210_000457_V06', '2019/12/10/KCLE/KCLE20191210_000104_V06', '2019/12/10/KAMA/KAMA20191210_000620_V06', '2019/12/10/KTLX/KTLX20191210_000413_V06', '2019/12/10/PAHG/PAHG20191210_000443_V06', '2019/12/10/KPOE/KPOE20191210_000324_V06', '2019/12/10/KBHX/KBHX20191210_000343_V06', '2019/12/10/KHDX/KHDX20191210_000111_V06', '2019/12/10/KMTX/KMTX20191210_000208_V06', '2019/12/10/KBOX/KBOX20191210_000027_V06', '2019/12/10/RKJK/RKJK20191210_000705_V06', '2019/12/10/KBBX/KBBX20191210_000009_V06', '2019/12/10/KLIX/KLIX20191210_000218_V06', '2019/12/10/KAPX/KAPX20191210_000101_V06', '2019/12/10/RKSG/RKSG20191210_000406_V06', '2019/12/10/KGJX/KGJX20191210_000339_V06', '2019/12/10/PABC/PABC20191210_000101_V06', '2019/12/10/KESX/KESX20191210_000122_V06', '2019/12/10/KILX/KILX20191210_000126_V06', '2019/12/10/KDGX/KDGX20191210_000117_V06', '2019/12/10/PAPD/PAPD20191210_000252_V06', '2019/12/10/KBLX/KBLX20191210_000847_V06', '2019/12/10/KMXX/KMXX20191210_000317_V06', '2019/12/10/KGRB/KGRB20191210_000649_V06']\n"
     ]
    }
   ],
   "source": [
    "print(radar_files_to_dl)"
   ]
  },
  {
   "cell_type": "code",
   "execution_count": 47,
   "metadata": {},
   "outputs": [],
   "source": [
    "for radar_file in radar_files_to_dl:\n",
    "    s3client.get_object(Bucket=\"noaa-nexrad-level2\", Key=radar_file)"
   ]
  },
  {
   "cell_type": "code",
   "execution_count": 17,
   "metadata": {},
   "outputs": [],
   "source": [
    "nexrad_file = \"/Users/kurtispinkney/Desktop/WxProject/aws_radar_locations.csv\""
   ]
  },
  {
   "cell_type": "code",
   "execution_count": 20,
   "metadata": {},
   "outputs": [],
   "source": [
    "df = pd.read_csv(nexrad_file)"
   ]
  },
  {
   "cell_type": "code",
   "execution_count": 28,
   "metadata": {},
   "outputs": [
    {
     "data": {
      "text/plain": [
       "65.03511047363281"
      ]
     },
     "execution_count": 28,
     "metadata": {},
     "output_type": "execute_result"
    }
   ],
   "source": [
    "max_lat = max(df[\"Latitude\"])"
   ]
  },
  {
   "cell_type": "code",
   "execution_count": 30,
   "metadata": {},
   "outputs": [
    {
     "data": {
      "text/plain": [
       "13.455833435058596"
      ]
     },
     "execution_count": 30,
     "metadata": {},
     "output_type": "execute_result"
    }
   ],
   "source": [
    "min_lat = min(df[\"Latitude\"])"
   ]
  },
  {
   "cell_type": "code",
   "execution_count": 31,
   "metadata": {},
   "outputs": [],
   "source": [
    "dy = (1/111)*250"
   ]
  },
  {
   "cell_type": "code",
   "execution_count": 32,
   "metadata": {},
   "outputs": [
    {
     "data": {
      "text/plain": [
       "2.2522522522522523"
      ]
     },
     "execution_count": 32,
     "metadata": {},
     "output_type": "execute_result"
    }
   ],
   "source": [
    "dy"
   ]
  },
  {
   "cell_type": "code",
   "execution_count": null,
   "metadata": {},
   "outputs": [],
   "source": []
  }
 ],
 "metadata": {
  "kernelspec": {
   "display_name": "Python 3",
   "language": "python",
   "name": "python3"
  },
  "language_info": {
   "codemirror_mode": {
    "name": "ipython",
    "version": 3
   },
   "file_extension": ".py",
   "mimetype": "text/x-python",
   "name": "python",
   "nbconvert_exporter": "python",
   "pygments_lexer": "ipython3",
   "version": "3.7.4"
  }
 },
 "nbformat": 4,
 "nbformat_minor": 4
}
